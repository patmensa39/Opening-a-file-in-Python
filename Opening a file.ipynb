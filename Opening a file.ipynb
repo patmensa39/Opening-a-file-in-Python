{
 "cells": [
  {
   "cell_type": "code",
   "execution_count": 1,
   "metadata": {},
   "outputs": [
    {
     "name": "stdout",
     "output_type": "stream",
     "text": [
      "Patrick's current working directory is set to: C:\\Users\\patme\\OneDrive\\Desktop\\Data_Science\\Python\\data\n"
     ]
    }
   ],
   "source": [
    "#Setting up a working directory\n",
    "\n",
    "import os\n",
    "\n",
    "def set_working_directory(folder_path):\n",
    "    if not os.path.exists(folder_path):\n",
    "        print(\"Error: Directory does not exist.\")\n",
    "        return None\n",
    "    \n",
    "    try:\n",
    "        os.chdir(folder_path)\n",
    "        new_directory = os.getcwd()\n",
    "        return new_directory\n",
    "    except Exception as e:\n",
    "        print(\"An error occurred:\", str(e))\n",
    "        return None\n",
    "\n",
    "# Example usage:\n",
    "folder_path = r\"C:\\Users\\patme\\OneDrive\\Desktop\\Data_Science\\Python\\data\"\n",
    "new_directory = set_working_directory(folder_path)\n",
    "if new_directory:\n",
    "    print(\"Patrick's current working directory is set to:\", new_directory)\n"
   ]
  },
  {
   "cell_type": "code",
   "execution_count": 4,
   "metadata": {},
   "outputs": [
    {
     "name": "stdout",
     "output_type": "stream",
     "text": [
      "State,Population,Income,Illiteracy,Life Exp,Murder,HS Grad,Frost,Area\n",
      "Alabama,3615,3624,2.1,69.05,15.1,41.3,20,50708\n",
      "Alaska,365,6315,1.5,69.31,11.3,66.7,152,566432\n",
      "Arizona,2212,4530,1.8,70.55,7.8,58.1,15,113417\n",
      "Arkansas,2110,3378,1.9,70.66,10.1,39.9,65,51945\n",
      "California,21198,5114,1.1,71.71,10.3,62.6,20,156361\n",
      "Colorado,2541,4884,0.7,72.06,6.8,63.9,166,103766\n",
      "Connecticut,3100,5348,1.1,72.48,3.1,56,139,4862\n",
      "Delaware,579,4809,0.9,70.06,6.2,54.6,103,1982\n",
      "Florida,8277,4815,1.3,70.66,10.7,52.6,11,54090\n",
      "Georgia,4931,4091,2,68.54,13.9,40.6,60,58073\n",
      "Hawaii,868,4963,1.9,73.6,6.2,61.9,0,6425\n",
      "Idaho,813,4119,0.6,71.87,5.3,59.5,126,82677\n",
      "Illinois,11197,5107,0.9,70.14,10.3,52.6,127,55748\n",
      "Indiana,5313,4458,0.7,70.88,7.1,52.9,122,36097\n",
      "Iowa,2861,4628,0.5,72.56,2.3,59,140,55941\n",
      "Kansas,2280,4669,0.6,72.58,4.5,59.9,114,81787\n",
      "Kentucky,3387,3712,1.6,70.1,10.6,38.5,95,39650\n",
      "Louisiana,3806,3545,2.8,68.76,13.2,42.2,12,44930\n",
      "Maine,1058,3694,0.7,70.39,2.7,54.7,161,30920\n",
      "Maryland,4122,5299,0.9,70.22,8.5,52.3,101,9891\n",
      "Massachusetts,5814,4755,1.1,71.83,3.3,58.5,103,7826\n",
      "Michigan,9111,4751,0.9,70.63,11.1,52.8,125,56817\n",
      "Minnesota,3921,4675,0.6,72.96,2.3,57.6,160,79289\n",
      "Mississippi,2341,3098,2.4,68.09,12.5,41,50,47296\n",
      "Missouri,4767,4254,0.8,70.69,9.3,48.8,108,68995\n",
      "Montana,746,4347,0.6,70.56,5,59.2,155,145587\n",
      "Nebraska,1544,4508,0.6,72.6,2.9,59.3,139,76483\n",
      "Nevada,590,5149,0.5,69.03,11.5,65.2,188,109889\n",
      "New Hampshire,812,4281,0.7,71.23,3.3,57.6,174,9027\n",
      "New Jersey,7333,5237,1.1,70.93,5.2,52.5,115,7521\n",
      "New Mexico,1144,3601,2.2,70.32,9.7,55.2,120,121412\n",
      "New York,18076,4903,1.4,70.55,10.9,52.7,82,47831\n",
      "North Carolina,5441,3875,1.8,69.21,11.1,38.5,80,48798\n",
      "North Dakota,637,5087,0.8,72.78,1.4,50.3,186,69273\n",
      "Ohio,10735,4561,0.8,70.82,7.4,53.2,124,40975\n",
      "Oklahoma,2715,3983,1.1,71.42,6.4,51.6,82,68782\n",
      "Oregon,2284,4660,0.6,72.13,4.2,60,44,96184\n",
      "Pennsylvania,11860,4449,1,70.43,6.1,50.2,126,44966\n",
      "Rhode Island,931,4558,1.3,71.9,2.4,46.4,127,1049\n",
      "South Carolina,2816,3635,2.3,67.96,11.6,37.8,65,30225\n",
      "South Dakota,681,4167,0.5,72.08,1.7,53.3,172,75955\n",
      "Tennessee,4173,3821,1.7,70.11,11,41.8,70,41328\n",
      "Texas,12237,4188,2.2,70.9,12.2,47.4,35,262134\n",
      "Utah,1203,4022,0.6,72.9,4.5,67.3,137,82096\n",
      "Vermont,472,3907,0.6,71.64,5.5,57.1,168,9267\n",
      "Virginia,4981,4701,1.4,70.08,9.5,47.8,85,39780\n",
      "Washington,3559,4864,0.6,71.72,4.3,63.5,32,66570\n",
      "West Virginia,1799,3617,1.4,69.48,6.7,41.6,100,24070\n",
      "Wisconsin,4589,4468,0.7,72.48,3,54.5,149,54464\n",
      "Wyoming,376,4566,0.6,70.29,6.9,62.9,173,97203\n",
      "\n"
     ]
    }
   ],
   "source": [
    "#Opening a python file \n",
    "def print_content():\n",
    "    file = open('United_States.csv', 'r')\n",
    "    contents = file.read()\n",
    "    print(contents)\n",
    "    file.close()\n",
    "\n",
    "if __name__ == \"__main__\":\n",
    "    print_content()"
   ]
  },
  {
   "cell_type": "code",
   "execution_count": null,
   "metadata": {},
   "outputs": [],
   "source": []
  }
 ],
 "metadata": {
  "kernelspec": {
   "display_name": "Python 3",
   "language": "python",
   "name": "python3"
  },
  "language_info": {
   "codemirror_mode": {
    "name": "ipython",
    "version": 3
   },
   "file_extension": ".py",
   "mimetype": "text/x-python",
   "name": "python",
   "nbconvert_exporter": "python",
   "pygments_lexer": "ipython3",
   "version": "3.12.2"
  }
 },
 "nbformat": 4,
 "nbformat_minor": 2
}
